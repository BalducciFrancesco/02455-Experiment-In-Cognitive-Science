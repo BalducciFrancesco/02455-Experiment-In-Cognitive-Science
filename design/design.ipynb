{
 "cells": [
  {
   "cell_type": "code",
   "execution_count": 6,
   "id": "6b891fac",
   "metadata": {},
   "outputs": [],
   "source": [
    "import math\n",
    "from scipy import stats\n",
    "\n",
    "def cohens_d_independent(m1, s1, n1, m2, s2, n2):\n",
    "    # 1. pooled SD\n",
    "    s1_sq = s1**2\n",
    "    s2_sq = s2**2\n",
    "    pooled_var = ((n1-1)*s1_sq + (n2-1)*s2_sq) / (n1+n2-2)\n",
    "    s_pooled = math.sqrt(pooled_var)\n",
    "    \n",
    "    # 2. Cohen's d\n",
    "    diff = m1 - m2\n",
    "    d = diff / s_pooled\n",
    "    \n",
    "    return d\n",
    "\n",
    "# Example\n",
    "m1, s1, n1 = 80, 6, 15    # Group 1: mean, std, n\n",
    "m2, s2, n2 = 75, 6, 15    # Group 2: mean, std, n\n",
    "\n",
    "d = cohens_d_independent(m1, s1, n1, m2, s2, n2)"
   ]
  },
  {
   "cell_type": "code",
   "execution_count": 7,
   "id": "2fc74902",
   "metadata": {},
   "outputs": [
    {
     "data": {
      "text/plain": [
       "23"
      ]
     },
     "execution_count": 7,
     "metadata": {},
     "output_type": "execute_result"
    }
   ],
   "source": [
    "from scipy.stats import norm\n",
    "\n",
    "alpha = 0.05   # type I error rate (1-alpha confidence level)\n",
    "beta = 0.2     # type II error rate (1 - power)\n",
    "norm.ppf(1 - alpha / 2)  # two-tailed z critical value for 95% confidence interval\n",
    "norm.ppf(1 - beta)  # z critical value for 80% power\n",
    "\n",
    "# Sample size calculation for one-sample z-test for mean\n",
    "def calculate_sample_size(d, alpha, beta):\n",
    "    z_alpha = norm.ppf(1 - alpha / 2)  # two-tailed\n",
    "    z_beta = norm.ppf(1 - beta)\n",
    "    n = 2 * (z_alpha + z_beta) ** 2 / d ** 2\n",
    "    return int(n) + 1  # round up to next whole number\n",
    "\n",
    "calculate_sample_size(d, alpha, beta)  # Example usage"
   ]
  },
  {
   "cell_type": "markdown",
   "id": "c17c3775",
   "metadata": {},
   "source": [
    "# Experiment design"
   ]
  },
  {
   "cell_type": "markdown",
   "id": "767d8e2e",
   "metadata": {},
   "source": [
    "Generates a complete experimental design for assigning videos and beliefs to subjects. It creates all possible permutations of video orders (`all_orders`) and assigns random beliefs (`all_beliefs`) to each video for every subject. The design matrix (`design`) combines video order, belief, order index, and subject ID into a structured format. Finally, it prints the design in a tabular format, showing the video, belief, order, and subject for each assignment."
   ]
  },
  {
   "cell_type": "code",
   "execution_count": 8,
   "id": "e9ad8e79",
   "metadata": {},
   "outputs": [
    {
     "name": "stdout",
     "output_type": "stream",
     "text": [
      "Video\tBelief\tOrder\tSubject\n",
      "1\t0\t1\t1\n",
      "2\t0\t2\t1\n",
      "3\t1\t3\t1\n",
      "4\t1\t4\t1\n",
      "\n",
      "1\t0\t1\t2\n",
      "2\t0\t2\t2\n",
      "4\t1\t3\t2\n",
      "3\t0\t4\t2\n",
      "\n",
      "1\t1\t1\t3\n",
      "3\t1\t2\t3\n",
      "2\t1\t3\t3\n",
      "4\t0\t4\t3\n",
      "\n",
      "1\t1\t1\t4\n",
      "3\t1\t2\t4\n",
      "4\t1\t3\t4\n",
      "2\t0\t4\t4\n",
      "\n",
      "1\t1\t1\t5\n",
      "4\t1\t2\t5\n",
      "2\t1\t3\t5\n",
      "3\t0\t4\t5\n",
      "\n",
      "1\t1\t1\t6\n",
      "4\t0\t2\t6\n",
      "3\t1\t3\t6\n",
      "2\t1\t4\t6\n",
      "\n",
      "2\t1\t1\t7\n",
      "1\t1\t2\t7\n",
      "3\t0\t3\t7\n",
      "4\t1\t4\t7\n",
      "\n",
      "2\t1\t1\t8\n",
      "1\t1\t2\t8\n",
      "4\t1\t3\t8\n",
      "3\t1\t4\t8\n",
      "\n",
      "2\t1\t1\t9\n",
      "3\t1\t2\t9\n",
      "1\t1\t3\t9\n",
      "4\t1\t4\t9\n",
      "\n",
      "2\t0\t1\t10\n",
      "3\t0\t2\t10\n",
      "4\t1\t3\t10\n",
      "1\t1\t4\t10\n",
      "\n",
      "2\t0\t1\t11\n",
      "4\t1\t2\t11\n",
      "1\t0\t3\t11\n",
      "3\t0\t4\t11\n",
      "\n",
      "2\t1\t1\t12\n",
      "4\t0\t2\t12\n",
      "3\t0\t3\t12\n",
      "1\t1\t4\t12\n",
      "\n",
      "3\t1\t1\t13\n",
      "1\t1\t2\t13\n",
      "2\t1\t3\t13\n",
      "4\t0\t4\t13\n",
      "\n",
      "3\t0\t1\t14\n",
      "1\t1\t2\t14\n",
      "4\t0\t3\t14\n",
      "2\t1\t4\t14\n",
      "\n",
      "3\t0\t1\t15\n",
      "2\t1\t2\t15\n",
      "1\t0\t3\t15\n",
      "4\t0\t4\t15\n",
      "\n",
      "3\t1\t1\t16\n",
      "2\t1\t2\t16\n",
      "4\t1\t3\t16\n",
      "1\t1\t4\t16\n",
      "\n",
      "3\t1\t1\t17\n",
      "4\t0\t2\t17\n",
      "1\t1\t3\t17\n",
      "2\t0\t4\t17\n",
      "\n",
      "3\t1\t1\t18\n",
      "4\t1\t2\t18\n",
      "2\t0\t3\t18\n",
      "1\t1\t4\t18\n",
      "\n",
      "4\t0\t1\t19\n",
      "1\t0\t2\t19\n",
      "2\t0\t3\t19\n",
      "3\t0\t4\t19\n",
      "\n",
      "4\t1\t1\t20\n",
      "1\t1\t2\t20\n",
      "3\t1\t3\t20\n",
      "2\t0\t4\t20\n",
      "\n",
      "4\t0\t1\t21\n",
      "2\t1\t2\t21\n",
      "1\t0\t3\t21\n",
      "3\t0\t4\t21\n",
      "\n",
      "4\t1\t1\t22\n",
      "2\t1\t2\t22\n",
      "3\t0\t3\t22\n",
      "1\t0\t4\t22\n",
      "\n",
      "4\t0\t1\t23\n",
      "3\t0\t2\t23\n",
      "1\t1\t3\t23\n",
      "2\t1\t4\t23\n",
      "\n",
      "4\t1\t1\t24\n",
      "3\t1\t2\t24\n",
      "2\t1\t3\t24\n",
      "1\t1\t4\t24\n",
      "\n"
     ]
    }
   ],
   "source": [
    "import numpy as np\n",
    "from itertools import permutations\n",
    "\n",
    "video_values = [\n",
    "    '4171487-uhd_3840_2160_30fps.mp4', \n",
    "    '5768645-uhd_3840_2160_25fps.mp4', \n",
    "    '11946387_3840_2160_30fps.mp4', \n",
    "    '11946387_3840_2160_30fps.mp4'\n",
    "]\n",
    "\n",
    "belief_values = ['AI Generated', 'Human Generated']\n",
    "\n",
    "\n",
    "videos = np.arange(1, len(video_values) + 1)\n",
    "belief = np.arange(len(belief_values))\n",
    "all_orders = np.array(list(permutations(videos)))\n",
    "n_subjects = all_orders.shape[0]\n",
    "\n",
    "# For each subject, assign a unique video order and random beliefs\n",
    "all_beliefs = np.random.choice(belief, size=(n_subjects, videos.size))\n",
    "orders = np.tile(np.arange(1, videos.size + 1), n_subjects)\n",
    "subjects = np.repeat(np.arange(1, n_subjects + 1), videos.size)\n",
    "\n",
    "design = np.column_stack((\n",
    "    all_orders.flatten(),\n",
    "    all_beliefs.flatten(),\n",
    "    orders,\n",
    "    subjects\n",
    "))\n",
    "\n",
    "print(\"Video\\tBelief\\tOrder\\tSubject\")\n",
    "for i, row in enumerate(design):\n",
    "    print(f\"{row[0]}\\t{row[1]}\\t{row[2]}\\t{row[3]}\")\n",
    "    if (i + 1) % videos.size == 0:\n",
    "        print()"
   ]
  },
  {
   "cell_type": "code",
   "execution_count": 9,
   "id": "a121a04a",
   "metadata": {},
   "outputs": [
    {
     "data": {
      "text/plain": [
       "((96, 4), array([ 240,   58,  240, 1200]))"
      ]
     },
     "execution_count": 9,
     "metadata": {},
     "output_type": "execute_result"
    }
   ],
   "source": [
    "design.shape, design.sum(axis=0)  # Sum of each column"
   ]
  },
  {
   "cell_type": "markdown",
   "id": "d71c2fbc",
   "metadata": {},
   "source": [
    "Outputs the design in a CSV file that can be imported in PsychoPy"
   ]
  },
  {
   "cell_type": "code",
   "execution_count": 10,
   "id": "7080cd71",
   "metadata": {},
   "outputs": [
    {
     "name": "stdout",
     "output_type": "stream",
     "text": [
      "Saved CSV to: ./subjects_design.csv\n"
     ]
    }
   ],
   "source": [
    "import csv\n",
    "import numpy as np\n",
    "out_path = \"./subjects_design.csv\"\n",
    "header = [\"video1\",\"label1\",\"video2\",\"label2\",\"video3\",\"label3\",\"video4\",\"label4\"]\n",
    "subjects = np.unique(design[:, 3])\n",
    "with open(out_path, \"w\", newline=\"\") as f:\n",
    "    w = csv.writer(f)\n",
    "    w.writerow(header)\n",
    "    for s in subjects:\n",
    "        rows = design[design[:, 3] == s]\n",
    "        rows = rows[rows[:, 2].argsort()]  # sort by Order\n",
    "        row = []\n",
    "        for r in rows:\n",
    "            row.append(video_values[r[0] - 1])  # video\n",
    "            row.append(belief_values[r[1]])     # label/belief\n",
    "        w.writerow(row)\n",
    "print(f\"Saved CSV to: {out_path}\")"
   ]
  }
 ],
 "metadata": {
  "kernelspec": {
   "display_name": "dtu02450",
   "language": "python",
   "name": "python3"
  },
  "language_info": {
   "codemirror_mode": {
    "name": "ipython",
    "version": 3
   },
   "file_extension": ".py",
   "mimetype": "text/x-python",
   "name": "python",
   "nbconvert_exporter": "python",
   "pygments_lexer": "ipython3",
   "version": "3.11.11"
  }
 },
 "nbformat": 4,
 "nbformat_minor": 5
}
